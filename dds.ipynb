{
 "cells": [
  {
   "cell_type": "markdown",
   "metadata": {},
   "source": [
    "**Discritize using Euler's Methods:**\n",
    "$$\n",
    "x = \\hat{x} + T_S f(\\hat{x}, u) \\\\\n",
    "x = I \\hat{x} + T_S (A_c \\hat{x} + B_c u + D) \\\\\n",
    "I \\hat{x} + T_S A_c \\hat{x} + T_S B_c u + T_S D \\\\\n",
    "x = (I. + T_S A_c) \\hat{x} + (T B_c) u + T_S D \\\\\n",
    "T_S = 0.1 \\\\\n",
    "$$\n",
    "where\n",
    "$$\n",
    "A_c = \\begin{bmatrix} \\frac{1000}{100*V_e} & 0 & \\frac{-1000}{100} & 0 & 0 \\\\\\ 0 & \\frac{1000}{100*V_e} & 0 & 0 & \\frac{-1000}{100^2} \\\\\\ 0&0&0&1&0 \\\\\\ 0&0&0&0&0 \\\\\\ 0&0&0&0&0 \\end{bmatrix} \n",
    "$$\n",
    "$$\n",
    "B_c = \\begin{bmatrix} 0 && \\frac{1000}{100} \\\\ \\frac{1}{100} && 0 \\\\ 0 && 0 \\\\ 0 && \\frac{1000*L}{I_z} \\\\ -\\frac{1}{V_e} && 0 \\end{bmatrix}\n",
    "$$\n"
   ]
  }
 ],
 "metadata": {
  "language_info": {
   "name": "python"
  }
 },
 "nbformat": 4,
 "nbformat_minor": 2
}
